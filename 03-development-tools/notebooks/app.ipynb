{
 "cells": [
  {
   "cell_type": "code",
   "execution_count": 1,
   "id": "0733094f-6f2f-402f-a437-bb8401aff02a",
   "metadata": {
    "dotnet_interactive": {
     "language": "csharp"
    },
    "execution": {
     "iopub.execute_input": "2025-06-24T18:25:35.846252Z",
     "iopub.status.busy": "2025-06-24T18:25:35.846083Z",
     "iopub.status.idle": "2025-06-24T18:25:37.024312Z",
     "shell.execute_reply": "2025-06-24T18:25:37.023713Z"
    },
    "polyglot_notebook": {
     "kernelName": "csharp"
    }
   },
   "outputs": [
    {
     "name": "stdout",
     "output_type": "stream",
     "text": [
      "Requirement already satisfied: uvicorn in /home/broe/semantic-kernel/.venv/lib/python3.12/site-packages (0.34.3)\r\n",
      "Requirement already satisfied: fastapi in /home/broe/semantic-kernel/.venv/lib/python3.12/site-packages (0.115.13)\r\n",
      "Requirement already satisfied: nest-asyncio in /home/broe/semantic-kernel/.venv/lib/python3.12/site-packages (1.6.0)\r\n",
      "Requirement already satisfied: click>=7.0 in /home/broe/semantic-kernel/.venv/lib/python3.12/site-packages (from uvicorn) (8.2.1)\r\n",
      "Requirement already satisfied: h11>=0.8 in /home/broe/semantic-kernel/.venv/lib/python3.12/site-packages (from uvicorn) (0.16.0)\r\n",
      "Requirement already satisfied: starlette<0.47.0,>=0.40.0 in /home/broe/semantic-kernel/.venv/lib/python3.12/site-packages (from fastapi) (0.46.2)\r\n",
      "Requirement already satisfied: pydantic!=1.8,!=1.8.1,!=2.0.0,!=2.0.1,!=2.1.0,<3.0.0,>=1.7.4 in /home/broe/semantic-kernel/.venv/lib/python3.12/site-packages (from fastapi) (2.11.7)\r\n",
      "Requirement already satisfied: typing-extensions>=4.8.0 in /home/broe/semantic-kernel/.venv/lib/python3.12/site-packages (from fastapi) (4.14.0)\r\n",
      "Requirement already satisfied: annotated-types>=0.6.0 in /home/broe/semantic-kernel/.venv/lib/python3.12/site-packages (from pydantic!=1.8,!=1.8.1,!=2.0.0,!=2.0.1,!=2.1.0,<3.0.0,>=1.7.4->fastapi) (0.7.0)\r\n",
      "Requirement already satisfied: pydantic-core==2.33.2 in /home/broe/semantic-kernel/.venv/lib/python3.12/site-packages (from pydantic!=1.8,!=1.8.1,!=2.0.0,!=2.0.1,!=2.1.0,<3.0.0,>=1.7.4->fastapi) (2.33.2)\r\n",
      "Requirement already satisfied: typing-inspection>=0.4.0 in /home/broe/semantic-kernel/.venv/lib/python3.12/site-packages (from pydantic!=1.8,!=1.8.1,!=2.0.0,!=2.0.1,!=2.1.0,<3.0.0,>=1.7.4->fastapi) (0.4.1)\r\n",
      "Requirement already satisfied: anyio<5,>=3.6.2 in /home/broe/semantic-kernel/.venv/lib/python3.12/site-packages (from starlette<0.47.0,>=0.40.0->fastapi) (4.9.0)\r\n",
      "Requirement already satisfied: idna>=2.8 in /home/broe/semantic-kernel/.venv/lib/python3.12/site-packages (from anyio<5,>=3.6.2->starlette<0.47.0,>=0.40.0->fastapi) (3.10)\r\n",
      "Requirement already satisfied: sniffio>=1.1 in /home/broe/semantic-kernel/.venv/lib/python3.12/site-packages (from anyio<5,>=3.6.2->starlette<0.47.0,>=0.40.0->fastapi) (1.3.1)\r\n"
     ]
    },
    {
     "name": "stdout",
     "output_type": "stream",
     "text": [
      "Note: you may need to restart the kernel to use updated packages.\n"
     ]
    }
   ],
   "source": [
    "%pip install uvicorn fastapi nest-asyncio\n",
    "\n",
    "import uvicorn\n",
    "from fastapi import FastAPI\n",
    "import nest_asyncio\n",
    "import asyncio\n",
    "\n",
    "nest_asyncio.apply()\n",
    "\n",
    "app = FastAPI()\n",
    "\n",
    "@app.get(\"/\")\n",
    "def read_root():\n",
    "    return {\"Hello\": \"World\"}\n",
    "\n",
    "    config = uvicorn.Config(app, host=\"0.0.0.0\", port=8000)\n",
    "    server = uvicorn.Server(config)\n",
    "    loop = asyncio.get_event_loop()\n",
    "    loop.run_until_complete(server.serve())\n"
   ]
  }
 ],
 "metadata": {
  "kernelspec": {
   "display_name": ".venv",
   "language": "python",
   "name": "python3"
  },
  "language_info": {
   "codemirror_mode": {
    "name": "ipython",
    "version": 3
   },
   "file_extension": ".py",
   "mimetype": "text/x-python",
   "name": "python",
   "nbconvert_exporter": "python",
   "pygments_lexer": "ipython3",
   "version": "3.12.3"
  },
  "polyglot_notebook": {
   "kernelInfo": {
    "defaultKernelName": "csharp",
    "items": [
     {
      "aliases": [],
      "name": "csharp"
     }
    ]
   }
  }
 },
 "nbformat": 4,
 "nbformat_minor": 2
}
