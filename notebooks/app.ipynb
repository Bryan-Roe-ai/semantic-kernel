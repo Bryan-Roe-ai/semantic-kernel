{
 "cells": [
  {
   "cell_type": "code",
   "execution_count": null,
   "id": "5a034561",
   "metadata": {},
   "outputs": [],
   "source": [
    "Moved from root for organization."
   ]
  }
 ],
 "metadata": {
  "language_info": {
   "name": "python"
  }
 },
 "nbformat": 4,
 "nbformat_minor": 5
}
