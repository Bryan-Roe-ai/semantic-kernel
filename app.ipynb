{
 "cells": [
  {
   "cell_type": "code",
   "execution_count": 22,
   "id": "0733094f-6f2f-402f-a437-bb8401aff02a",
   "metadata": {},
   "outputs": [
    {
     "name": "stdout",
     "output_type": "stream",
     "text": [
      "Requirement already satisfied: fastapi in ./.venv/lib/python3.8/site-packages (0.115.5)\n",
      "Requirement already satisfied: starlette<0.42.0,>=0.40.0 in ./.venv/lib/python3.8/site-packages (from fastapi) (0.41.2)\n",
      "Requirement already satisfied: pydantic!=1.8,!=1.8.1,!=2.0.0,!=2.0.1,!=2.1.0,<3.0.0,>=1.7.4 in ./.venv/lib/python3.8/site-packages (from fastapi) (1.10.19)\n",
      "Requirement already satisfied: typing-extensions>=4.8.0 in ./.venv/lib/python3.8/site-packages (from fastapi) (4.12.2)\n",
      "Requirement already satisfied: anyio<5,>=3.4.0 in ./.venv/lib/python3.8/site-packages (from starlette<0.42.0,>=0.40.0->fastapi) (4.5.2)\n",
      "Requirement already satisfied: idna>=2.8 in ./.venv/lib/python3.8/site-packages (from anyio<5,>=3.4.0->starlette<0.42.0,>=0.40.0->fastapi) (3.10)\n",
      "Requirement already satisfied: sniffio>=1.1 in ./.venv/lib/python3.8/site-packages (from anyio<5,>=3.4.0->starlette<0.42.0,>=0.40.0->fastapi) (1.3.1)\n",
      "Requirement already satisfied: exceptiongroup>=1.0.2 in ./.venv/lib/python3.8/site-packages (from anyio<5,>=3.4.0->starlette<0.42.0,>=0.40.0->fastapi) (1.2.2)\n",
      "Note: you may need to restart the kernel to use updated packages.\n"
     ]
    },
    {
     "data": {
      "text/plain": [
       "{'name': 'Python: FastAPI',\n",
       " 'type': 'debugpy',\n",
       " 'request': 'launch',\n",
       " 'program': '${workspaceFolder}/app.py',\n",
       " 'args': ['run', '--host', '0.0.0.0', '--port', '8000'],\n",
       " 'console': 'integratedTerminal',\n",
       " 'envFile': '${workspaceFolder}/.env.local.template'}"
      ]
     },
     "execution_count": 22,
     "metadata": {},
     "output_type": "execute_result"
    }
   ],
   "source": [
    "# Install fastapi package\n",
    "%pip install fastapi\n",
    "\n",
    "from fastapi import FastAPI\n",
    "\n",
    "app = FastAPI()\n",
    "\n",
    "@app.get(\"/\")\n",
    "def greet_json():\n",
    "    return {\"Hello\": \"World!\"}\n",
    "\n",
    "{\n",
    "  \"name\": \"Python: FastAPI\",\n",
    "  \"type\": \"debugpy\",\n",
    "  \"request\": \"launch\",\n",
    "  \"program\": \"${workspaceFolder}/app.py\",\n",
    "  \"args\": [\"run\", \"--host\", \"0.0.0.0\", \"--port\", \"8000\"],\n",
    "  \"console\": \"integratedTerminal\",\n",
    "  \"envFile\": \"${workspaceFolder}/.env.local.template\"\n",
    "}"
   ]
  },
  {
   "cell_type": "code",
   "execution_count": null,
   "metadata": {},
   "outputs": [],
   "source": []
  }
 ],
 "metadata": {
  "language_info": {
   "codemirror_mode": {
    "name": "ipython",
    "version": 3
   },
   "file_extension": ".py",
   "mimetype": "text/x-python",
   "name": "python",
   "nbconvert_exporter": "python",
   "pygments_lexer": "ipython3",
   "version": 3
  }
 },
 "nbformat": 4,
 "nbformat_minor": 2
}
