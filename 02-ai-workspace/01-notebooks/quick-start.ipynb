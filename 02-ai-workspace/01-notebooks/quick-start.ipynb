{
  "cells": [
    {
      "cell_type": "markdown",
      "metadata": {},
      "source": [
        "# AI Workspace Quick Start\n",
        "\n",
        "Welcome to your organized AI development workspace! This notebook will help you get started.\n",
        "\n",
        "## Environment Setup\n",
        "\n",
        "First, let's check that everything is properly configured."
      ]
    },
    {
      "cell_type": "code",
      "execution_count": 5,
      "metadata": {},
      "outputs": [
        {
          "name": "stdout",
          "output_type": "stream",
          "text": [
            "Python version: 3.12.3 (main, Jan 17 2025, 18:03:48) [GCC 13.3.0]\n",
            "Current working directory: /home/broe/semantic-kernel/02-ai-workspace/01-notebooks\n",
            "Workspace path: /home/broe/semantic-kernel/02-ai-workspace/01-notebooks\n",
            "❌ semantic_kernel is not installed\n",
            "❌ openai is not installed\n",
            "❌ numpy is not installed\n",
            "❌ pandas is not installed\n",
            "❌ matplotlib is not installed\n"
          ]
        }
      ],
      "source": [
        "# Check Python environment and key packages\n",
        "import sys\n",
        "import os\n",
        "from pathlib import Path\n",
        "\n",
        "print(f\"Python version: {sys.version}\")\n",
        "print(f\"Current working directory: {os.getcwd()}\")\n",
        "print(f\"Workspace path: {Path.cwd()}\")\n",
        "\n",
        "# Check for required packages\n",
        "required_packages = ['semantic_kernel', 'openai', 'numpy', 'pandas', 'matplotlib']\n",
        "for package in required_packages:\n",
        "    try:\n",
        "        __import__(package)\n",
        "        print(f\"✅ {package} is available\")\n",
        "    except ImportError:\n",
        "        print(f\"❌ {package} is not installed\")"
      ]
    },
    {
      "cell_type": "markdown",
      "metadata": {},
      "source": [
        "## Semantic Kernel Setup\n",
        "\n",
        "Let's initialize Semantic Kernel and test basic functionality."
      ]
    },
    {
      "cell_type": "code",
      "execution_count": 6,
      "metadata": {},
      "outputs": [
        {
          "name": "stdout",
          "output_type": "stream",
          "text": [
            "❌ Error initializing Semantic Kernel: No module named 'semantic_kernel'\n",
            "Please check your installation and API keys.\n"
          ]
        }
      ],
      "source": [
        "# Initialize Semantic Kernel\n",
        "try:\n",
        "    import semantic_kernel as sk\n",
        "    from semantic_kernel.connectors.ai.open_ai import OpenAIChatCompletion\n",
        "    \n",
        "    # Create kernel\n",
        "    kernel = sk.Kernel()\n",
        "    \n",
        "    print(\"🚀 Semantic Kernel initialized successfully!\")\n",
        "    print(f\"Kernel services: {len(kernel.services)}\")\n",
        "    \n",
        "except Exception as e:\n",
        "    print(f\"❌ Error initializing Semantic Kernel: {e}\")\n",
        "    print(\"Please check your installation and API keys.\")"
      ]
    },
    {
      "cell_type": "markdown",
      "metadata": {},
      "source": [
        "## Workspace Navigation\n",
        "\n",
        "Explore the organized directory structure."
      ]
    },
    {
      "cell_type": "code",
      "execution_count": 7,
      "metadata": {},
      "outputs": [
        {
          "name": "stdout",
          "output_type": "stream",
          "text": [
            "🏗️ AI Workspace Structure:\n",
            "========================================\n"
          ]
        }
      ],
      "source": [
        "# Display workspace structure\n",
        "workspace_root = Path('..')\n",
        "ai_workspace = Path('.')\n",
        "\n",
        "print(\"🏗️ AI Workspace Structure:\")\n",
        "print(\"=\" * 40)\n",
        "\n",
        "for item in sorted(ai_workspace.glob('*')):\n",
        "    if item.is_dir() and item.name.startswith(('01-', '02-', '03-', '04-', '05-', '06-', '07-', '08-', '09-', '10-')):\n",
        "        print(f\"📁 {item.name}\")\n",
        "        readme_path = item / 'README.md'\n",
        "        if readme_path.exists():\n",
        "            with open(readme_path, 'r') as f:\n",
        "                lines = f.readlines()\n",
        "                if len(lines) > 2:\n",
        "                    description = lines[2].strip()\n",
        "                    print(f\"   {description}\")\n",
        "        print()"
      ]
    },
    {
      "cell_type": "markdown",
      "metadata": {},
      "source": [
        "## Next Steps\n",
        "\n",
        "1. **Configure Environment**: Copy `.env.template` to `.env` and add your API keys\n",
        "2. **Explore Notebooks**: Check out `01-notebooks/` for more examples\n",
        "3. **Build Agents**: Start with examples in `02-agents/`\n",
        "4. **Create Plugins**: Develop custom functionality in `04-plugins/`\n",
        "5. **Deploy Services**: Use `06-backend-services/` for production applications\n",
        "\n",
        "Happy AI development! 🤖✨"
      ]
    }
  ],
  "metadata": {
    "kernelspec": {
      "display_name": ".venv",
      "language": "python",
      "name": "python3"
    },
    "language_info": {
      "codemirror_mode": {
        "name": "ipython",
        "version": 3
      },
      "file_extension": ".py",
      "mimetype": "text/x-python",
      "name": "python",
      "nbconvert_exporter": "python",
      "pygments_lexer": "ipython3",
      "version": "3.12.3"
    }
  },
  "nbformat": 4,
  "nbformat_minor": 4
}
