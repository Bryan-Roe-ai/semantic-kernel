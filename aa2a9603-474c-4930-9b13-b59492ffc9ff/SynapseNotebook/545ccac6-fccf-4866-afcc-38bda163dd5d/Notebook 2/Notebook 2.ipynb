{
 "cells": [
  {
   "cell_type": "code",
   "execution_count": 2,
   "id": "16953d3e-ccd5-4dfd-9069-3e962fc9a2f1",
   "metadata": {
    "cellStatus": "{\"Bryan Roe\":{\"queued_time\":\"2024-03-09T18:00:13.8715603Z\",\"session_start_time\":null,\"execution_start_time\":\"2024-03-09T18:00:42.8641786Z\",\"execution_finish_time\":\"2024-03-09T18:00:45.3224327Z\",\"state\":\"finished\",\"livy_statement_state\":\"available\"}}",
    "collapsed": false,
    "jupyter": {
     "outputs_hidden": false
    },
    "microsoft": {}
   },
   "outputs": [],
   "source": [
    "# Welcome to your new notebook\n",
    "# Type here in the cell editor to add code!\n"
   ]
  },
  {
   "cell_type": "code",
   "execution_count": null,
   "id": "5c4c78ca-4618-46e8-9ec2-e3eb3840f977",
   "metadata": {
    "jupyter": {
     "outputs_hidden": false,
     "source_hidden": false
    },
    "nteract": {
     "transient": {
      "deleting": false
     }
    }
   },
   "outputs": [],
   "source": []
  }
 ],
 "metadata": {
  "kernel_info": {
   "name": "synapse_pyspark"
  },
  "kernelspec": {
   "display_name": ".venv",
   "language": "python",
   "name": "python3"
  },
  "language_info": {
   "codemirror_mode": {
    "name": "ipython",
    "version": 3
   },
   "file_extension": ".py",
   "mimetype": "text/x-python",
   "name": "python",
   "nbconvert_exporter": "python",
   "pygments_lexer": "ipython3",
   "version": "3.8.10"
  },
  "microsoft": {
   "language": "python"
  },
  "nteract": {
   "version": "nteract-front-end@1.0.0"
  },
  "spark_compute": {
   "compute_id": "/trident/default"
  },
  "widgets": {}
 },
 "nbformat": 4,
 "nbformat_minor": 5
}
