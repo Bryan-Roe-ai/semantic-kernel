{
   "cells": [
      {
         "cell_type": "code",
         "execution_count": null,
         "id": "dc6f365e",
         "metadata": {},
         "outputs": [],
         "source": []
      },
      {
         "cell_type": "code",
         "execution_count": null,
         "id": "01J16YFBEA691Y4SFYZEESRM2Q",
         "metadata": {},
         "outputs": [],
         "source": []
      },
      {
         "cell_type": "code",
         "execution_count": null,
         "id": "655384c2",
         "metadata": {
            "dotnet_interactive": {
               "language": "csharp"
            },
            "polyglot_notebook": {
               "kernelName": "csharp"
            }
         },
         "outputs": [],
         "source": []
      },
      {
         "cell_type": "code",
         "execution_count": null,
         "id": "c23bd0b8-6d15-417d-b5f1-8c655597965d",
         "metadata": {},
         "outputs": [],
         "source": []
      },
      {
         "cell_type": "code",
         "execution_count": null,
         "id": "27126df8-9ce0-482a-917f-fdf4875253ba",
         "metadata": {},
         "outputs": [],
         "source": []
      },
      {
         "cell_type": "code",
         "execution_count": null,
         "id": "7011eeae-1700-4e5d-87e4-3a797a6f5efe",
         "metadata": {},
         "outputs": [],
         "source": []
      },
      {
         "cell_type": "code",
         "execution_count": null,
         "id": "9802e7ed-123f-4ff8-b26f-88b8dd99cc9f",
         "metadata": {},
         "outputs": [],
         "source": []
      },
      {
         "cell_type": "code",
         "execution_count": null,
         "id": "4dad3de9-5060-4478-bdbc-de5812feeed4",
         "metadata": {},
         "outputs": [],
         "source": []
      },
      {
         "cell_type": "code",
         "execution_count": null,
         "id": "bac3d8e0-7b23-4a6c-92d5-b515145d7687",
         "metadata": {
            "editable": true,
            "slideshow": {
               "slide_type": ""
            },
            "tags": []
         },
         "outputs": [],
         "source": []
      },
      {
         "cell_type": "code",
         "execution_count": null,
         "id": "ad468ac9-afdd-4ed7-8fb5-d0f4719d3e1b",
         "metadata": {
            "editable": true,
            "slideshow": {
               "slide_type": ""
            },
            "tags": []
         },
         "outputs": [],
         "source": []
      },
      {
         "cell_type": "code",
         "execution_count": null,
         "id": "0852ec4b-e8de-4d4c-89ea-6c54355c94eb",
         "metadata": {},
         "outputs": [],
         "source": []
      },
      {
         "cell_type": "code",
         "execution_count": null,
         "id": "8e0396fd-54e3-47e7-ac9e-4861d9ad38fd",
         "metadata": {},
         "outputs": [],
         "source": []
      },
      {
         "cell_type": "code",
         "execution_count": null,
         "id": "18e2b9e0-3312-4653-8cdc-cd8d6996d5a5",
         "metadata": {},
         "outputs": [],
         "source": []
      },
      {
         "cell_type": "code",
         "execution_count": null,
         "id": "24112db7-9143-4e2f-8fec-edfee24e0529",
         "metadata": {},
         "outputs": [],
         "source": []
      },
      {
         "cell_type": "code",
         "execution_count": null,
         "id": "989c31c9-89ed-4474-a9c3-8f8871309eab",
         "metadata": {},
         "outputs": [],
         "source": []
      },
      {
         "cell_type": "code",
         "execution_count": null,
         "id": "720e046f-1fe0-4c6a-a46c-21088e46b1e4",
         "metadata": {},
         "outputs": [],
         "source": []
      },
      {
         "cell_type": "code",
         "execution_count": null,
         "id": "89350006-71fa-4d17-835e-ea01ba3e32bc",
         "metadata": {},
         "outputs": [],
         "source": []
      },
      {
         "cell_type": "code",
         "execution_count": null,
         "id": "e7fdc71a-3998-4c2b-bddf-739c3d0e0901",
         "metadata": {},
         "outputs": [],
         "source": []
      },
      {
         "cell_type": "code",
         "execution_count": null,
         "id": "7498ee66-eae3-4e89-a488-18d678d791f5",
         "metadata": {},
         "outputs": [],
         "source": []
      },
      {
         "cell_type": "code",
         "execution_count": null,
         "id": "27829407-2962-44d0-a0f6-5c750f6364fd",
         "metadata": {},
         "outputs": [],
         "source": []
      },
      {
         "cell_type": "code",
         "execution_count": null,
         "id": "beab41b8-7fc5-4a74-9dbb-afc3501137ec",
         "metadata": {},
         "outputs": [],
         "source": []
      },
      {
         "cell_type": "code",
         "execution_count": null,
         "id": "8787a183-d2db-4df1-a37b-2e7152c55e87",
         "metadata": {},
         "outputs": [],
         "source": []
      },
      {
         "cell_type": "code",
         "execution_count": null,
         "id": "18346940-842f-493c-9458-952e0488eae8",
         "metadata": {},
         "outputs": [],
         "source": []
      },
      {
         "cell_type": "code",
         "execution_count": null,
         "id": "1d3364f3-67ac-4db4-be99-0c9fb50272a4",
         "metadata": {},
         "outputs": [],
         "source": []
      },
      {
         "cell_type": "code",
         "execution_count": null,
         "id": "ba9d1f8c-9c8e-4cfe-b2f4-3bd0e0f82c90",
         "metadata": {},
         "outputs": [],
         "source": []
      },
      {
         "cell_type": "code",
         "execution_count": null,
         "id": "e7b55bd4-dac7-406b-92b7-a4c9822af97c",
         "metadata": {},
         "outputs": [],
         "source": []
      },
      {
         "cell_type": "code",
         "execution_count": null,
         "id": "d3f45bd9-2e43-40ca-8ff2-bc9456537cd1",
         "metadata": {
            "editable": true,
            "scrolled": true,
            "slideshow": {
               "slide_type": ""
            },
            "tags": []
         },
         "outputs": [],
         "source": []
      }
   ],
   "metadata": {
      "kernelspec": {
         "display_name": "fabric-synapse-runtime-1-1",
         "language": "python",
         "name": "python3"
      },
      "language_info": {
         "codemirror_mode": {
            "name": "ipython",
            "version": 3
         },
         "file_extension": ".py",
         "mimetype": "text/x-python",
         "name": "python",
         "nbconvert_exporter": "python",
         "pygments_lexer": "ipython3",
   "version": "3.11.2"

      },
      "polyglot_notebook": {
         "kernelInfo": {
            "defaultKernelName": "csharp",
            "items": [
               {
                  "aliases": [],
                  "name": "csharp"
               }
            ]
         }
      }
   },
   "nbformat": 4,
   "nbformat_minor": 5
}